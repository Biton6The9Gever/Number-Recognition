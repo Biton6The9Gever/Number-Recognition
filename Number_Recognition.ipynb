{
  "nbformat": 4,
  "nbformat_minor": 0,
  "metadata": {
    "colab": {
      "provenance": []
    },
    "kernelspec": {
      "name": "python3",
      "display_name": "Python 3"
    },
    "language_info": {
      "name": "python"
    }
  },
  "cells": [
    {
      "cell_type": "code",
      "execution_count": null,
      "metadata": {
        "id": "-KFpqj8OoQk6"
      },
      "outputs": [],
      "source": [
        "import numpy as np\n",
        "import gradio as gr\n",
        "import tensorflow as tf\n",
        "import matplotlib.pyplot as plt\n",
        "from tensorflow.keras import regularizers"
      ]
    },
    {
      "cell_type": "code",
      "source": [
        "# Load MNIST dataset\n",
        "(x_train, y_train), (x_test, y_test) = tf.keras.datasets.mnist.load_data()\n",
        "\n",
        "# Check data size\n",
        "print(x_train.shape, y_train.shape)\n",
        "print(x_test.shape, y_test.shape)\n",
        "\n"
      ],
      "metadata": {
        "colab": {
          "base_uri": "https://localhost:8080/"
        },
        "id": "VfTcMbqko4oP",
        "outputId": "854ba8d6-2464-4636-a0aa-9e6a394442c8"
      },
      "execution_count": null,
      "outputs": [
        {
          "output_type": "stream",
          "name": "stdout",
          "text": [
            "Downloading data from https://storage.googleapis.com/tensorflow/tf-keras-datasets/mnist.npz\n",
            "\u001b[1m11490434/11490434\u001b[0m \u001b[32m━━━━━━━━━━━━━━━━━━━━\u001b[0m\u001b[37m\u001b[0m \u001b[1m0s\u001b[0m 0us/step\n",
            "(60000, 28, 28) (60000,)\n",
            "(10000, 28, 28) (10000,)\n"
          ]
        }
      ]
    },
    {
      "cell_type": "code",
      "source": [
        "# Normalize to [0,1]\n",
        "\n",
        "x_train = x_train.reshape(60000, 784)/255.0\n",
        "x_test = x_test.reshape(10000, 784)/255.0\n",
        "\n",
        "print(x_train.min(), x_train.max())  # testing if the normalize succeeded\n",
        "print(x_test.shape)\n",
        "\n",
        "# Flatten images (28x28 -> 784)\n",
        "x_train = x_train.reshape(-1, 28*28)\n",
        "x_test = x_test.reshape(-1, 28*28)\n",
        "\n",
        "plt.figure(figsize=(6,6))\n",
        "for i in range(9):\n",
        "    img = x_train[i].reshape(28,28)  # reshape back to 28x28\n",
        "    plt.subplot(3,3,i+1)\n",
        "    plt.imshow(img, cmap='gray')\n",
        "    plt.axis('off')\n",
        "plt.show()"
      ],
      "metadata": {
        "colab": {
          "base_uri": "https://localhost:8080/",
          "height": 536
        },
        "id": "MQzHOT4spxie",
        "outputId": "ccdd0bee-67aa-4701-ac0d-154b41e16bb2"
      },
      "execution_count": null,
      "outputs": [
        {
          "output_type": "stream",
          "name": "stdout",
          "text": [
            "0.0 2.365044290627876e-10\n",
            "(10000, 784)\n"
          ]
        },
        {
          "output_type": "display_data",
          "data": {
            "text/plain": [
              "<Figure size 600x600 with 9 Axes>"
            ],
            "image/png": "[encoded data removed]"
          },
          "metadata": {}
        }
      ]
    },
    {
      "cell_type": "code",
      "source": [
        "# Creating a model\n",
        "model = tf.keras.Sequential([\n",
        "    tf.keras.layers.Dense(256, activation=\"relu\",kernel_regularizer=regularizers.l2(1e-4)),   # hidden layer\n",
        "    tf.keras.layers.Dropout(0.5), # 50% dropout\n",
        "\n",
        "    tf.keras.layers.Dense(128, activation=\"relu\" ,kernel_regularizer=regularizers.l2(1e-4)),   # hidden layer\n",
        "    tf.keras.layers.Dropout(0.5),\n",
        "\n",
        "    tf.keras.layers.Dense(128, activation=\"relu\", kernel_regularizer=regularizers.l2(1e-4)),   # hidden layer\n",
        "    tf.keras.layers.Dropout(0.5),\n",
        "\n",
        "    tf.keras.layers.Dense(128, activation=\"relu\", kernel_regularizer=regularizers.l2(1e-4)),   # hidden layer\n",
        "    tf.keras.layers.Dropout(0.5),\n",
        "\n",
        "    tf.keras.layers.Dense(64, activation=\"relu\", kernel_regularizer=regularizers.l2(1e-4)),   # hidden layer\n",
        "    tf.keras.layers.Dropout(0.5),\n",
        "\n",
        "    tf.keras.layers.Dense(32, activation=\"relu\", kernel_regularizer=regularizers.l2(1e-4)),   # hidden layer\n",
        "    tf.keras.layers.Dropout(0.1),\n",
        "\n",
        "    tf.keras.layers.Dense(10, activation=\"softmax\")  # output layer\n",
        "])\n",
        "\n",
        "# Compile the model\n",
        "model.compile(\n",
        "    optimizer=\"adam\",\n",
        "    loss=\"sparse_categorical_crossentropy\",\n",
        "    metrics=[\"accuracy\"]\n",
        ")\n",
        "\n",
        "# Train model\n",
        "history=model.fit(x_train, y_train, epochs=5, batch_size=32, validation_split=0.4)"
      ],
      "metadata": {
        "colab": {
          "base_uri": "https://localhost:8080/"
        },
        "id": "dWimSzrVqaCY",
        "outputId": "09191875-87af-4145-e877-99e80aa280bf"
      },
      "execution_count": null,
      "outputs": [
        {
          "output_type": "stream",
          "name": "stdout",
          "text": [
            "Epoch 1/5\n",
            "\u001b[1m1125/1125\u001b[0m \u001b[32m━━━━━━━━━━━━━━━━━━━━\u001b[0m\u001b[37m\u001b[0m \u001b[1m16s\u001b[0m 11ms/step - accuracy: 0.2562 - loss: 2.0424 - val_accuracy: 0.7570 - val_loss: 0.7406\n",
            "Epoch 2/5\n",
            "\u001b[1m1125/1125\u001b[0m \u001b[32m━━━━━━━━━━━━━━━━━━━━\u001b[0m\u001b[37m\u001b[0m \u001b[1m12s\u001b[0m 10ms/step - accuracy: 0.7014 - loss: 0.9390 - val_accuracy: 0.9090 - val_loss: 0.4821\n",
            "Epoch 3/5\n",
            "\u001b[1m1125/1125\u001b[0m \u001b[32m━━━━━━━━━━━━━━━━━━━━\u001b[0m\u001b[37m\u001b[0m \u001b[1m11s\u001b[0m 10ms/step - accuracy: 0.8327 - loss: 0.6618 - val_accuracy: 0.9331 - val_loss: 0.3578\n",
            "Epoch 4/5\n",
            "\u001b[1m1125/1125\u001b[0m \u001b[32m━━━━━━━━━━━━━━━━━━━━\u001b[0m\u001b[37m\u001b[0m \u001b[1m21s\u001b[0m 11ms/step - accuracy: 0.8851 - loss: 0.5401 - val_accuracy: 0.9407 - val_loss: 0.3271\n",
            "Epoch 5/5\n",
            "\u001b[1m1125/1125\u001b[0m \u001b[32m━━━━━━━━━━━━━━━━━━━━\u001b[0m\u001b[37m\u001b[0m \u001b[1m12s\u001b[0m 11ms/step - accuracy: 0.8994 - loss: 0.5036 - val_accuracy: 0.9449 - val_loss: 0.3289\n"
          ]
        }
      ]
    },
    {
      "cell_type": "code",
      "source": [
        "plt.plot(history.history[\"accuracy\"], label=\"train\")\n",
        "plt.plot(history.history[\"val_accuracy\"], label=\"val\")\n",
        "plt.legend()\n",
        "plt.show()"
      ],
      "metadata": {
        "colab": {
          "base_uri": "https://localhost:8080/",
          "height": 430
        },
        "id": "KNZv5JD4rbtp",
        "outputId": "9630218c-7f3c-4968-e9b0-3101bd953521"
      },
      "execution_count": null,
      "outputs": [
        {
          "output_type": "display_data",
          "data": {
            "text/plain": [
              "<Figure size 640x480 with 1 Axes>"
            ],
            "image/png": "[encoded data removed]"
          },
          "metadata": {}
        }
      ]
    },
    {
      "cell_type": "code",
      "source": [
        "def predict(img):\n",
        "   # transfring the input image to numpy array\n",
        "   imgArray=(img['composite'])\n",
        "   imgArray=imgArray/255.0 # normilize\n",
        "   imgArray=1.0-imgArray # invert colors\n",
        "\n",
        "   imgArray = imgArray.reshape(-1, 28*28)\n",
        "\n",
        "   preds=model.predict(imgArray,verbose=0)\n",
        "   digit = int(np.argmax(preds, axis=1)[0])\n",
        "   return digit\n",
        "\n",
        "gr.Interface(\n",
        "    fn=predict,\n",
        "    inputs=gr.Sketchpad( type='numpy', image_mode='L',canvas_size=(28,28), brush=gr.Brush( colors=[\"#00000080\"], color_mode=\"fixed\" ,default_size=1)),\n",
        "    outputs=gr.Textbox(),\n",
        ").launch(debug=False)"
      ],
      "metadata": {
        "colab": {
          "base_uri": "https://localhost:8080/",
          "height": 650
        },
        "id": "dijzYT1usCHS",
        "outputId": "4289e5b2-5a09-462a-ac65-0ee464b9de9a",
        "collapsed": true
      },
      "execution_count": null,
      "outputs": [
        {
          "output_type": "stream",
          "name": "stdout",
          "text": [
            "It looks like you are running Gradio on a hosted Jupyter notebook, which requires `share=True`. Automatically setting `share=True` (you can turn this off by setting `share=False` in `launch()` explicitly).\n",
            "\n",
            "Colab notebook detected. To show errors in colab notebook, set debug=True in launch()\n",
            "* Running on public URL: https://1f61512dff84952e27.gradio.live\n",
            "\n",
            "This share link expires in 1 week. For free permanent hosting and GPU upgrades, run `gradio deploy` from the terminal in the working directory to deploy to Hugging Face Spaces (https://huggingface.co/spaces)\n"
          ]
        },
        {
          "output_type": "display_data",
          "data": {
            "text/plain": [
              "<IPython.core.display.HTML object>"
            ],
            "text/html": [
              "<div><iframe src=\"https://1f61512dff84952e27.gradio.live\" width=\"100%\" height=\"500\" allow=\"autoplay; camera; microphone; clipboard-read; clipboard-write;\" frameborder=\"0\" allowfullscreen></iframe></div>"
            ]
          },
          "metadata": {}
        },
        {
          "output_type": "execute_result",
          "data": {
            "text/plain": []
          },
          "metadata": {},
          "execution_count": 54
        }
      ]
    },
    {
      "cell_type": "code",
      "source": [],
      "metadata": {
        "id": "uIvrCuUzA7cK"
      },
      "execution_count": null,
      "outputs": []
    }
  ]
}